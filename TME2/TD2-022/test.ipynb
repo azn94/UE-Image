{
 "cells": [
  {
   "cell_type": "markdown",
   "metadata": {},
   "source": [
    "# TD PIL"
   ]
  },
  {
   "cell_type": "code",
   "execution_count": null,
   "metadata": {},
   "outputs": [],
   "source": [
    "# Exercice 1\n",
    "\n",
    "from PIL import Image\n",
    "from pylab import *"
   ]
  },
  {
   "cell_type": "code",
   "execution_count": null,
   "metadata": {},
   "outputs": [],
   "source": [
    "barb = Image.open('img/barbara.png')\n",
    "gray()\n",
    "axis('off')\n",
    "imshow(barb)"
   ]
  },
  {
   "cell_type": "code",
   "execution_count": null,
   "metadata": {},
   "outputs": [],
   "source": [
    "L = list(barb.getdata())\n",
    "vmin,vmax,vmean=L[0],L[0],L[0]\n",
    "for v in L[1:]:\n",
    "    if v>vmax: vmax=v\n",
    "    if v<vmin: vmin=v\n",
    "    vmean += v\n",
    "print(vmin,vmax,vmean/len(L))"
   ]
  },
  {
   "cell_type": "code",
   "execution_count": null,
   "metadata": {},
   "outputs": [],
   "source": [
    "def getpixel(c,l,w,h,data):\n",
    "    \"\"\" int**4 * list[int] -> int \n",
    "    hyp: c,l>=0, c<w, l<h\n",
    "    \"\"\"\n",
    "    return data[c+l*w]\n",
    "# le paramètre h ne sert à rien"
   ]
  },
  {
   "cell_type": "code",
   "execution_count": null,
   "metadata": {},
   "outputs": [],
   "source": [
    "# modif énoncé: faire une liste de liste pour pouvoir afficher le resultat avec imshow()\n",
    "w,h = barb.size\n",
    "barbsym = []\n",
    "for l in range(h):\n",
    "    for c in range(w):\n",
    "        barbsym.append(getpixel(c,h-l-1,w,h,L))"
   ]
  },
  {
   "cell_type": "code",
   "execution_count": null,
   "metadata": {},
   "outputs": [],
   "source": [
    "barbsym = []\n",
    "for l in range(h-1,-1,-1):\n",
    "    barbsym += L[l*w:l*w+w]\n",
    "\n",
    "# version affichable\n",
    "barbsym2 = []\n",
    "for l in range(h-1,-1,-1):\n",
    "    barbsym2.append(L[l*w:l*w+w])\n",
    "imshow(barbsym2)\n",
    "show()\n"
   ]
  },
  {
   "cell_type": "code",
   "execution_count": null,
   "metadata": {},
   "outputs": [],
   "source": [
    "barbsymImg = Image.new('L',(w,h))\n",
    "barbsymImg.putdata(barbsym)\n",
    "imshow(barbsymImg)\n",
    "barbsymImg.save('barb2.jpg')\n",
    "from os import system\n",
    "system(\"open barb2.jpg\")"
   ]
  },
  {
   "cell_type": "code",
   "execution_count": null,
   "metadata": {},
   "outputs": [],
   "source": [
    "# Exercice 2\n",
    "barb = Image.open(\"img/barbara.png\")\n",
    "buf = barb.load()\n",
    "w,h = barb.size\n",
    "for l in range(h//2):\n",
    "    for c in range(c):\n",
    "        buf[c,l],buf[c,h-l-1] = buf[c,h-l-1],buf[c,l]\n",
    "imshow(barb)\n",
    "# aucune hypothèse"
   ]
  },
  {
   "cell_type": "code",
   "execution_count": null,
   "metadata": {},
   "outputs": [],
   "source": [
    "# Exercice 3\n",
    "\n",
    "# 3 canaux (rouge, vert, bleu) codés sur 1 octets: 24 bits, 2^24 valeurs possibles:\n",
    "print(2**24)\n",
    "color = Image.open(\"img/color.png\")\n",
    "imshow(color)\n",
    "show()\n",
    "# methode 1, solution liste:\n",
    "rgb = list(color.getdata())\n",
    "r = [ r for r,g,b in rgb]\n",
    "g = [ g for r,g,b in rgb]\n",
    "b = [ b for r,g,b in rgb]\n",
    "\n",
    "def l2d(data,w,h):\n",
    "    L = []\n",
    "    for l in range(h):\n",
    "        L.append(data[w*l:w*l+w])\n",
    "    return L\n",
    "w,h = color.size\n",
    "\n",
    "imshow(l2d(r,w,h))\n",
    "show()\n",
    "imshow(l2d(g,w,h))\n",
    "show()\n",
    "imshow(l2d(b,w,h))\n",
    "show()\n",
    "\n",
    "# Autre méthode: créer des images et copier ce qu'il faut d'une image (color) aux autres:\n",
    "#  exemple pour la composante rouge\n",
    "R = Image.new('L',(w,h))\n",
    "for l in range(h):\n",
    "    for c in range(w):\n",
    "        r,g,b = color.getpixel((c,l))\n",
    "        R.putpixel((c,l), r)\n",
    "imshow(R)\n",
    "show()\n",
    "\n",
    "# Seconde methode : utiliser split\n",
    "R,G,B = color.split()\n",
    "imshow(R)\n",
    "show()"
   ]
  },
  {
   "cell_type": "code",
   "execution_count": null,
   "metadata": {},
   "outputs": [],
   "source": [
    "# le type est int et c'est un indice dans une table des couleurs\n",
    "\n",
    "imgpal = Image.open('img/color.png').convert('P')\n",
    "imshow(imgpal)\n",
    "show()\n",
    "\n",
    "# méthode 1 bourrine\n",
    "pal = imgpal.getpalette()\n",
    "\n",
    "r = pal[::3]\n",
    "g = pal[1::3]\n",
    "b = pal[2::3]\n",
    "\n",
    "w,h = imgpal.size\n",
    "RGB = Image.new('RGB',(w,h))\n",
    "for l in range(h):\n",
    "    for c in range(w):\n",
    "        i = imgpal.getpixel((c,l))\n",
    "        RGB.putpixel((c,l),(r[i],g[i],b[i]))\n",
    "                     \n",
    "imshow(RGB)\n",
    "show()\n",
    "\n",
    "# methode 2: python\n",
    "rgb = [(r[i],g[i],b[i]) for i in list(imgpal.getdata()) ]\n",
    "RGB = Image.new('RGB',imgpal.size)\n",
    "RGB.putdata(rgb)\n",
    "imshow(RGB)\n",
    "show()\n",
    "\n",
    "\n",
    "# methode 3: PIL\n",
    "RGB = imgpal.convert('RGB')\n",
    "imshow(RGB)\n",
    "show()"
   ]
  }
 ],
 "metadata": {
  "kernelspec": {
   "display_name": "Python 3",
   "language": "python",
   "name": "python3"
  },
  "language_info": {
   "codemirror_mode": {
    "name": "ipython",
    "version": 3
   },
   "file_extension": ".py",
   "mimetype": "text/x-python",
   "name": "python",
   "nbconvert_exporter": "python",
   "pygments_lexer": "ipython3",
   "version": "3.7.3"
  }
 },
 "nbformat": 4,
 "nbformat_minor": 2
}

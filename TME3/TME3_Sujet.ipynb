{
 "cells": [
  {
   "cell_type": "markdown",
   "metadata": {},
   "source": [
    "# TME3: introduction à Numpy\n",
    "\n",
    "> Consignes: le fichier TME3_Sujet.ipynb est à déposer sur le site Moodle de l'UE https://moodle-sciences.upmc.fr/moodle-2019/course/view.php?id=4248. Si vous êtes en binôme, renommez-le en TME3_nom1_nom2.ipynb.\n",
    "\n",
    "## Exercice 1: \n",
    "Implémenter les exemples vu en TD. Imprimer les tableaux résultats pour vérification. "
   ]
  },
  {
   "cell_type": "code",
   "execution_count": 1,
   "metadata": {},
   "outputs": [],
   "source": [
    "from PIL import Image\n",
    "import numpy as np"
   ]
  },
  {
   "cell_type": "markdown",
   "metadata": {},
   "source": [
    "## Exercice 2: Numpy et les images\n",
    "\n",
    "### 2.1 Normalisation\n",
    "Normaliser l'image `img/seiche.png`. Indication: utiliser les méthodes `min()` et `max()` de la classe `ndarray`. Afficher l'image PIL `seiche.png` puis le tableau numpy normalisé. Ps: si l'image numpy apparait colorée, utiliser la fonction gray() qui fixe la palette de couleurs d'`imshow()` en niveaux de gris."
   ]
  },
  {
   "cell_type": "code",
   "execution_count": 1,
   "metadata": {},
   "outputs": [],
   "source": [
    "from PIL import Image\n",
    "from pylab import *"
   ]
  },
  {
   "cell_type": "markdown",
   "metadata": {},
   "source": [
    "### 2.2 Visualisation PIL et Numpy\n",
    "Lire l'image `img/CT-scan.png` (une coupe d'une acquisition d'un scanner X d'un corps humain) avec PIL et sa classe `Image`. Imprimer les extremas de l'image et l'image PIL. Transformer-là en tableau Numpy. A nouveau afficher ce tableau sous forme d'image. Que constatez-vous ?"
   ]
  },
  {
   "cell_type": "code",
   "execution_count": null,
   "metadata": {},
   "outputs": [],
   "source": []
  },
  {
   "cell_type": "markdown",
   "metadata": {},
   "source": [
    "### 2.3 Seuillage\n",
    "Prendre le tableau numpy de la question précédente. Appliquer un seuillage haut au seuil 255. \n",
    "Remarque: cette opération se fait une instruction Python. Afficher le résultat sous forme d'image et comparer avec l'image PIL affichée à la question précédente. Qu'en déduisez vous du comportement de imshow() sur les images PIL ?"
   ]
  },
  {
   "cell_type": "code",
   "execution_count": null,
   "metadata": {},
   "outputs": [],
   "source": []
  },
  {
   "cell_type": "markdown",
   "metadata": {},
   "source": [
    "### 2.4 Seuillage - suite\n",
    "Sur la même image, appliquer un seuillage à 1000 et commenter la visualisation de l'image seuillée. Essayer d'autres valeurs de seuils pour différentier certains organes.\n"
   ]
  },
  {
   "cell_type": "code",
   "execution_count": null,
   "metadata": {},
   "outputs": [],
   "source": []
  },
  {
   "cell_type": "markdown",
   "metadata": {},
   "source": [
    "### 2.4 Damier\n",
    "Comment fabriquer un image qui représente un damier (alternance de 6 cases blanches et 6 cases noires en ligne et en colonne), chaque case étant de taille 20 par 20. On pourra utiliser les fonctions `hstack()`, `vstack()` et `tile()`."
   ]
  },
  {
   "cell_type": "code",
   "execution_count": null,
   "metadata": {},
   "outputs": [],
   "source": []
  },
  {
   "cell_type": "markdown",
   "metadata": {},
   "source": [
    "## Exercice 3: Manipulation et parcours de tableaux\n",
    "### 3.1 Permutation de colonnes\n",
    "Écrire un code Python qui créé un tableau `A` initialisé à des valeurs quelconque, ou bien une image lue sur le disque, construit un tableau `B` de même taille qui contient en première colonne la dernière colonne de `A`, et pour ses colonnes restantes, les premières colonnes de `A`. \n"
   ]
  },
  {
   "cell_type": "code",
   "execution_count": null,
   "metadata": {},
   "outputs": [],
   "source": []
  },
  {
   "cell_type": "markdown",
   "metadata": {},
   "source": [
    "### 3.2 Duplication de lignes et colonnes\n",
    "Écrire un code Python qui prend le même tableau `A`, créé un tableau `A2` ayant 2 lignes et deux colonnes de plus que `A` et telque :\n",
    " - `A2` privé de ses premières et dernières lignes et colonnes doit valoir `A`. \n",
    " - Les bords de `A2` doivent correspondre aux bords de `A`. Les valeurs aux coins de A2 ne devraient pas vous poser de problème !\n"
   ]
  },
  {
   "cell_type": "code",
   "execution_count": null,
   "metadata": {},
   "outputs": [],
   "source": []
  },
  {
   "cell_type": "markdown",
   "metadata": {},
   "source": [
    "### 3.3 Temps de calcul\n",
    "Reprendre l'exercice 2 du TME2 en utilisant Numpy: calculer les extremas d'un tableau numpy (de grande taille, par exemple l'image `../TME2/img/genies-math.jpg` convertie en niveaux de gris), en parcourant par indice les valeurs du tableau. Puis utiliser les méthodes `min()` et `max()`. Chronométrer les temps grâce aux fonctions `tic()` et `tac()`. Discuter ces temps."
   ]
  },
  {
   "cell_type": "code",
   "execution_count": 2,
   "metadata": {},
   "outputs": [],
   "source": [
    "from time import process_time\n",
    "mytime = 0\n",
    "def tic():\n",
    "    global mytime\n",
    "    mytime = process_time()\n",
    "def tac():\n",
    "    global mytime\n",
    "    print (process_time()-mytime)\n",
    "    mytime = process_time()\n",
    "\n",
    "###\n"
   ]
  }
 ],
 "metadata": {
  "kernelspec": {
   "display_name": "Python 3",
   "language": "python",
   "name": "python3"
  },
  "language_info": {
   "codemirror_mode": {
    "name": "ipython",
    "version": 3
   },
   "file_extension": ".py",
   "mimetype": "text/x-python",
   "name": "python",
   "nbconvert_exporter": "python",
   "pygments_lexer": "ipython3",
   "version": "3.8.0"
  }
 },
 "nbformat": 4,
 "nbformat_minor": 2
}
